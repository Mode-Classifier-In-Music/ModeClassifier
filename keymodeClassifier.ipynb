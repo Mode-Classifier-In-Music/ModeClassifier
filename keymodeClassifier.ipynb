{
 "cells": [
  {
   "cell_type": "code",
   "execution_count": 146,
   "metadata": {},
   "outputs": [],
   "source": [
    "\n",
    "Chromatic = [0,1,2,3,4,5,6,7,8,9,10,11]\n",
    "Ionian = [0,2,4,5,7,9,11]\n",
    "Dorian = [0,2,3,5,7,9,10]\n",
    "Phrygian = [0,1,3,5,7,8,10]\n",
    "Lydian = [0,2,4,6,7,9,11]\n",
    "Mixolydian = [0,2,4,5,7,9,10]\n",
    "Aeolian = [0,2,3,5,7,8,10]\n",
    "Locrian = [0,1,3,5,6,8,10]\n",
    "\n",
    "#variations\n",
    "Harmonic_minor = [0,2,3,5,7,8,11]\n",
    "Melodic_minor = [0,2,3,5,7,9,11]\n",
    "\n",
    "#Eastern classical modes\n",
    "Bhairav = [0,1,4,5,7,8,11]\n",
    "Poorvi = [0,1,4,6,7,8,11]\n",
    "Marva = [0,1,4,6,7,9,11]\n",
    "Todi = [0,2,3,6,7,8,11]\n",
    "\n",
    "\n"
   ]
  },
  {
   "cell_type": "code",
   "execution_count": 147,
   "metadata": {},
   "outputs": [],
   "source": [
    "modeList = [Ionian, Dorian, Phrygian, Lydian, Mixolydian, Aeolian, Locrian, Harmonic_minor, Melodic_minor, Bhairav,Poorvi, Marva, Todi]"
   ]
  },
  {
   "cell_type": "code",
   "execution_count": 148,
   "metadata": {},
   "outputs": [],
   "source": [
    "modeTuples = [ (\"Ionian\" , Ionian),\n",
    "(\"Dorian\" , Dorian),\n",
    "(\"Phrygian\", Phrygian),\n",
    "(\"Lydian\" , Lydian), \n",
    "(\"Mixolydian\" , Mixolydian),\n",
    "(\"Aeolian\" , Aeolian),\n",
    "(\"Locrian\" , Locrian),\n",
    "(\"Harmonic_minor\", Harmonic_minor),\n",
    "(\"Melodic_minor_ascend\", Melodic_minor),\n",
    "(\"Bhairav\",Bhairav),\n",
    "(\"Poorvi\", Poorvi),\n",
    "(\"Marva\", Marva),\n",
    "(\"Todi\", Todi),\n",
    "]"
   ]
  },
  {
   "cell_type": "code",
   "execution_count": 206,
   "metadata": {},
   "outputs": [],
   "source": [
    "midinumbers = {\n",
    "    'c' : 0,\n",
    "    'C' : 0,\n",
    "    'c#' : 1,\n",
    "    'C#' : 1,\n",
    "    'd-' : 1,\n",
    "    'D-' : 1,\n",
    "    'd' : 2,\n",
    "    'D' :2,\n",
    "    'd#' : 3,\n",
    "    'D#' : 3,\n",
    "    'e-' : 3,\n",
    "    'E-' : 3,\n",
    "    'e' : 4,\n",
    "    'E' : 4,\n",
    "    'f' : 5,\n",
    "    'F' : 5,\n",
    "    'f#' : 6,\n",
    "    'F#' : 6,\n",
    "    'g-' :6,\n",
    "    'G-': 6,\n",
    "    'g' : 7,\n",
    "    'G' : 7,\n",
    "    'g#' : 8,\n",
    "    'G#' :8,\n",
    "    'a-' : 8,\n",
    "    'A-' :8,\n",
    "    'a' : 9,\n",
    "    'A' : 9,\n",
    "    'a#' : 10,\n",
    "    'A#' : 10,\n",
    "    'b-' : 10,\n",
    "    'B-' : 10,\n",
    "    'b' : 11,\n",
    "    'B' : 11,\n",
    "\n",
    "}"
   ]
  },
  {
   "cell_type": "code",
   "execution_count": 149,
   "metadata": {},
   "outputs": [],
   "source": [
    "from music21 import *\n",
    "import scipy\n",
    "from collections import Counter"
   ]
  },
  {
   "cell_type": "code",
   "execution_count": 150,
   "metadata": {},
   "outputs": [],
   "source": [
    "def open_midi(midi_path, remove_drums):\n",
    "    # There is an one-line method to read MIDIs\n",
    "    # but to remove the drums we need to manipulate some\n",
    "    # low level MIDI events.\n",
    "    mf = midi.MidiFile()\n",
    "    mf.open(midi_path)\n",
    "    mf.read()\n",
    "    mf.close()\n",
    "    print ((mf.tracks))\n",
    "    print(mf)\n",
    "    #for eve in mf.tracks[0].events:\n",
    "        #print(eve)\n",
    "    if (remove_drums):\n",
    "        for i in range(len(mf.tracks)):\n",
    "           \n",
    "            mf.tracks[i].events = [ev for ev in mf.tracks[i].events if ev.channel != 10]          \n",
    "    \n",
    "    \n",
    "    return midi.translate.midiFileToStream(mf)"
   ]
  },
  {
   "cell_type": "code",
   "execution_count": null,
   "metadata": {},
   "outputs": [],
   "source": [
    "class Rootnote:\n",
    "    def __init__(self, noteName):\n",
    "        self.noteName = noteName\n",
    "\n",
    "   \n",
    "\n",
    "    def __str__(self):\n",
    "        return f\"{self.noteName}\"\n",
    "    \n",
    "    def asnum(self):\n",
    "        return midinumbers[self.noteName]"
   ]
  },
  {
   "cell_type": "code",
   "execution_count": null,
   "metadata": {},
   "outputs": [],
   "source": [
    "def extract_notes(midi_part):\n",
    "    parent_element = []\n",
    "    ret = []\n",
    "    for nt in midi_part.flat.notes:        \n",
    "        if isinstance(nt, note.Note):\n",
    "            ret.append(max(0.0, nt.pitch.ps))\n",
    "            parent_element.append(nt)\n",
    "        elif isinstance(nt, chord.Chord):\n",
    "            for pitch in nt.pitches:\n",
    "                ret.append(max(0.0, pitch.ps))\n",
    "                parent_element.append(nt)\n",
    "    \n",
    "    return ret, parent_element"
   ]
  },
  {
   "cell_type": "code",
   "execution_count": 186,
   "metadata": {},
   "outputs": [],
   "source": [
    "def getMode(midi_filename):\n",
    "    base_midi = open_midi(midi_filename, True)\n",
    "\n",
    "    music_analysis = base_midi.analyze('key')\n",
    "\n",
    "    rootnote = Rootnote(format(music_analysis).split(' ')[0])\n",
    "    print(\"the root note is \", rootnote)\n",
    "    a, b = extract_notes(base_midi)\n",
    "    transposed = [x - rootnote.asnum() for x in a]\n",
    "    refOctave = [x % 12 for x in transposed]\n",
    "\n",
    "    freq = Counter(refOctave)\n",
    " \n",
    "    freq = dict (freq) \n",
    "    sorted_notes= sorted(freq.items(), key=lambda x:x[1], reverse=True)\n",
    "    mostusednotes = []\n",
    "    for i,j in sorted_notes:\n",
    "        mostusednotes.append(i)\n",
    "\n",
    "    mostusednotes = mostusednotes[:7]\n",
    "    mostusednotes.sort()\n",
    "    print(\"most used notes : \", mostusednotes)\n",
    "    lowest = 999\n",
    "    for modeName, mode in modeTuples:\n",
    "        distance = scipy.spatial.distance.hamming(mostusednotes, mode)\n",
    "        if distance < lowest:\n",
    "            lowest = distance \n",
    "            ourmode = modeName\n",
    "\n",
    "    return ourmode\n",
    "    \n",
    "\n"
   ]
  },
  {
   "cell_type": "code",
   "execution_count": 209,
   "metadata": {},
   "outputs": [
    {
     "name": "stdout",
     "output_type": "stream",
     "text": [
      "[<music21.midi.MidiTrack 0 -- 8 events>, <music21.midi.MidiTrack 1 -- 928 events>, <music21.midi.MidiTrack 2 -- 928 events>, <music21.midi.MidiTrack 3 -- 7906 events>, <music21.midi.MidiTrack 4 -- 3716 events>, <music21.midi.MidiTrack 5 -- 5584 events>, <music21.midi.MidiTrack 6 -- 320 events>, <music21.midi.MidiTrack 7 -- 320 events>, <music21.midi.MidiTrack 8 -- 120 events>, <music21.midi.MidiTrack 9 -- 6066 events>, <music21.midi.MidiTrack 10 -- 308 events>, <music21.midi.MidiTrack 11 -- 1460 events>, <music21.midi.MidiTrack 12 -- 388 events>, <music21.midi.MidiTrack 13 -- 4772 events>, <music21.midi.MidiTrack 14 -- 4774 events>, <music21.midi.MidiTrack 15 -- 6 events>]\n",
      "<music21.midi.MidiFile 16 tracks>\n",
      "the root note is  d\n",
      "most used notes :  [0.0, 2.0, 3.0, 5.0, 7.0, 9.0, 10.0]\n"
     ]
    }
   ],
   "source": [
    "ourmode = getMode(\"AnotherBrickInTheWall.mid\")\n"
   ]
  },
  {
   "cell_type": "code",
   "execution_count": 210,
   "metadata": {},
   "outputs": [
    {
     "name": "stdout",
     "output_type": "stream",
     "text": [
      "Dorian\n"
     ]
    }
   ],
   "source": [
    "print(ourmode)"
   ]
  }
 ],
 "metadata": {
  "kernelspec": {
   "display_name": "keymode",
   "language": "python",
   "name": "python3"
  },
  "language_info": {
   "codemirror_mode": {
    "name": "ipython",
    "version": 3
   },
   "file_extension": ".py",
   "mimetype": "text/x-python",
   "name": "python",
   "nbconvert_exporter": "python",
   "pygments_lexer": "ipython3",
   "version": "3.11.1"
  },
  "orig_nbformat": 4,
  "vscode": {
   "interpreter": {
    "hash": "d6d65eae22ae411f6d89512884a4ebba16024fc0aefd29b417b6a940cd9ebcd6"
   }
  }
 },
 "nbformat": 4,
 "nbformat_minor": 2
}
